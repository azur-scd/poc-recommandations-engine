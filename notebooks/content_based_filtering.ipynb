{
 "cells": [
  {
   "cell_type": "code",
   "execution_count": 1,
   "metadata": {},
   "outputs": [],
   "source": [
    "%matplotlib inline"
   ]
  },
  {
   "cell_type": "code",
   "execution_count": 2,
   "metadata": {},
   "outputs": [],
   "source": [
    "import numpy as np\n",
    "import pandas as pd\n",
    "import matplotlib.pyplot as plt\n",
    "import re\n",
    "import requests\n",
    "import json\n",
    "import time\n",
    "from pandas.io.json import json_normalize\n",
    "import xml.etree.ElementTree as ET\n",
    "import helpers as helpers"
   ]
  },
  {
   "cell_type": "markdown",
   "metadata": {},
   "source": [
    "# Content-base filtering méthode"
   ]
  },
  {
   "cell_type": "markdown",
   "metadata": {},
   "source": [
    "## Objectif\n",
    "\n",
    "* Vectoriser les données bibliographiques à l'aide de méthodes de data science pour calculer les distances cosinus (comme indicateurs de similarité) pour chaque paire de documents\n",
    "\n",
    "* Produire une fonction"
   ]
  },
  {
   "cell_type": "markdown",
   "metadata": {},
   "source": [
    "## Dataframe des données\n",
    "\n",
    "**Fichier initial data/export_SJA.csv : export ARC (module stat Aleph) de tous les exemplaires de la BU SJA**"
   ]
  },
  {
   "cell_type": "code",
   "execution_count": 3,
   "metadata": {},
   "outputs": [
    {
     "data": {
      "text/plain": [
       "(35085, 10)"
      ]
     },
     "execution_count": 3,
     "metadata": {},
     "output_type": "execute_result"
    }
   ],
   "source": [
    "df = pd.read_csv('data/01_raw/sja_tous_exemplaires.csv', sep = ';')\n",
    "df.shape ## 35085 lignes et 10 colonnes"
   ]
  },
  {
   "cell_type": "code",
   "execution_count": 4,
   "metadata": {},
   "outputs": [
    {
     "data": {
      "text/html": [
       "<div>\n",
       "<style scoped>\n",
       "    .dataframe tbody tr th:only-of-type {\n",
       "        vertical-align: middle;\n",
       "    }\n",
       "\n",
       "    .dataframe tbody tr th {\n",
       "        vertical-align: top;\n",
       "    }\n",
       "\n",
       "    .dataframe thead th {\n",
       "        text-align: right;\n",
       "    }\n",
       "</style>\n",
       "<table border=\"1\" class=\"dataframe\">\n",
       "  <thead>\n",
       "    <tr style=\"text-align: right;\">\n",
       "      <th></th>\n",
       "      <th>Desc Bibliothèque</th>\n",
       "      <th>Desc Statut Exemplaire</th>\n",
       "      <th>ID Statut Exemplaire</th>\n",
       "      <th>Titre</th>\n",
       "      <th>No de Notice BIB</th>\n",
       "      <th>Desc4</th>\n",
       "      <th>Desc5</th>\n",
       "      <th>Auteur</th>\n",
       "      <th>Date Publication</th>\n",
       "      <th>Desc Format</th>\n",
       "    </tr>\n",
       "  </thead>\n",
       "  <tbody>\n",
       "    <tr>\n",
       "      <th>0</th>\n",
       "      <td>BU St-Jean</td>\n",
       "      <td>En rayon</td>\n",
       "      <td>19</td>\n",
       "      <td>La^Théorie des jeux</td>\n",
       "      <td>222086</td>\n",
       "      <td>PPN000117307</td>\n",
       "      <td>PPN000117307</td>\n",
       "      <td>Plon, Michel</td>\n",
       "      <td>1976</td>\n",
       "      <td>Books</td>\n",
       "    </tr>\n",
       "    <tr>\n",
       "      <th>1</th>\n",
       "      <td>BU St-Jean</td>\n",
       "      <td>En rayon</td>\n",
       "      <td>19</td>\n",
       "      <td>Théorie des jeux pour l'économie et la politique</td>\n",
       "      <td>217008</td>\n",
       "      <td>PPN000494410</td>\n",
       "      <td>PPN000494410</td>\n",
       "      <td>Moulin, Hervé (1950-....)</td>\n",
       "      <td>1981</td>\n",
       "      <td>Books</td>\n",
       "    </tr>\n",
       "  </tbody>\n",
       "</table>\n",
       "</div>"
      ],
      "text/plain": [
       "  Desc Bibliothèque Desc Statut Exemplaire  ID Statut Exemplaire  \\\n",
       "0        BU St-Jean               En rayon                    19   \n",
       "1        BU St-Jean               En rayon                    19   \n",
       "\n",
       "                                              Titre  No de Notice BIB  \\\n",
       "0                               La^Théorie des jeux            222086   \n",
       "1  Théorie des jeux pour l'économie et la politique            217008   \n",
       "\n",
       "          Desc4         Desc5                     Auteur  Date Publication  \\\n",
       "0  PPN000117307  PPN000117307               Plon, Michel              1976   \n",
       "1  PPN000494410  PPN000494410  Moulin, Hervé (1950-....)              1981   \n",
       "\n",
       "  Desc Format  \n",
       "0       Books  \n",
       "1       Books  "
      ]
     },
     "execution_count": 4,
     "metadata": {},
     "output_type": "execute_result"
    }
   ],
   "source": [
    "df.head(2)"
   ]
  },
  {
   "cell_type": "code",
   "execution_count": null,
   "metadata": {},
   "outputs": [],
   "source": [
    "On supprime les colonnes inutiles et on renomme les autres"
   ]
  },
  {
   "cell_type": "code",
   "execution_count": 5,
   "metadata": {},
   "outputs": [],
   "source": [
    "df.drop(['Desc Bibliothèque', 'Desc Statut Exemplaire', 'Desc5', 'ID Statut Exemplaire', 'Desc Format'], axis = 1, inplace = True)\n",
    "df.columns = ['titre', 'num', 'ppn', 'auteur', 'date']"
   ]
  },
  {
   "cell_type": "markdown",
   "metadata": {},
   "source": [
    "Comme on ne travaille que sur les données bibliographiques et que la source est un fichier d'exemplaires, on dédoublonne les items sur le numéro d'identification Aleph"
   ]
  },
  {
   "cell_type": "markdown",
   "metadata": {},
   "source": [
    "Pour voir les doublons"
   ]
  },
  {
   "cell_type": "code",
   "execution_count": null,
   "metadata": {},
   "outputs": [],
   "source": [
    "df.sort_values(\"num\").head(10)"
   ]
  },
  {
   "cell_type": "markdown",
   "metadata": {},
   "source": [
    "Pour les supprimer"
   ]
  },
  {
   "cell_type": "code",
   "execution_count": 6,
   "metadata": {},
   "outputs": [],
   "source": [
    "df.drop_duplicates(subset =\"num\", keep = False, inplace = True)\n",
    "## 33062 lignes"
   ]
  },
  {
   "cell_type": "code",
   "execution_count": 7,
   "metadata": {},
   "outputs": [
    {
     "data": {
      "text/plain": [
       "(33062, 5)"
      ]
     },
     "execution_count": 7,
     "metadata": {},
     "output_type": "execute_result"
    }
   ],
   "source": [
    "df.shape"
   ]
  },
  {
   "cell_type": "markdown",
   "metadata": {},
   "source": [
    "## Caractéristiques du dataset"
   ]
  },
  {
   "cell_type": "code",
   "execution_count": null,
   "metadata": {},
   "outputs": [],
   "source": [
    "df.describe(include = 'all')"
   ]
  },
  {
   "cell_type": "markdown",
   "metadata": {},
   "source": [
    "Focus sur les valeurs manquantes (que l'on calcule avec une fonction spécifique)"
   ]
  },
  {
   "cell_type": "code",
   "execution_count": 8,
   "metadata": {},
   "outputs": [
    {
     "name": "stdout",
     "output_type": "stream",
     "text": [
      "Your selected dataframe has 5 columns and 33062 Rows.\n",
      "There are 2 columns that have missing values.\n"
     ]
    },
    {
     "data": {
      "text/html": [
       "<div>\n",
       "<style scoped>\n",
       "    .dataframe tbody tr th:only-of-type {\n",
       "        vertical-align: middle;\n",
       "    }\n",
       "\n",
       "    .dataframe tbody tr th {\n",
       "        vertical-align: top;\n",
       "    }\n",
       "\n",
       "    .dataframe thead th {\n",
       "        text-align: right;\n",
       "    }\n",
       "</style>\n",
       "<table border=\"1\" class=\"dataframe\">\n",
       "  <thead>\n",
       "    <tr style=\"text-align: right;\">\n",
       "      <th></th>\n",
       "      <th>Zero Values</th>\n",
       "      <th>Missing Values</th>\n",
       "      <th>% of Total Values</th>\n",
       "      <th>Total Zero Missing Values</th>\n",
       "      <th>% Total Zero Missing Values</th>\n",
       "      <th>Data Type</th>\n",
       "    </tr>\n",
       "  </thead>\n",
       "  <tbody>\n",
       "    <tr>\n",
       "      <th>auteur</th>\n",
       "      <td>0</td>\n",
       "      <td>5376</td>\n",
       "      <td>16.3</td>\n",
       "      <td>5376</td>\n",
       "      <td>16.3</td>\n",
       "      <td>object</td>\n",
       "    </tr>\n",
       "    <tr>\n",
       "      <th>ppn</th>\n",
       "      <td>0</td>\n",
       "      <td>78</td>\n",
       "      <td>0.2</td>\n",
       "      <td>78</td>\n",
       "      <td>0.2</td>\n",
       "      <td>object</td>\n",
       "    </tr>\n",
       "  </tbody>\n",
       "</table>\n",
       "</div>"
      ],
      "text/plain": [
       "        Zero Values  Missing Values  % of Total Values  \\\n",
       "auteur            0            5376               16.3   \n",
       "ppn               0              78                0.2   \n",
       "\n",
       "        Total Zero Missing Values  % Total Zero Missing Values Data Type  \n",
       "auteur                       5376                         16.3    object  \n",
       "ppn                            78                          0.2    object  "
      ]
     },
     "execution_count": 8,
     "metadata": {},
     "output_type": "execute_result"
    }
   ],
   "source": [
    "helpers.missing_zero_values_table(df)"
   ]
  },
  {
   "cell_type": "markdown",
   "metadata": {},
   "source": [
    "## Nettoyage des données"
   ]
  },
  {
   "cell_type": "markdown",
   "metadata": {},
   "source": [
    "### Champ PPN\n",
    "\n",
    "On repère les valeurs manquantes"
   ]
  },
  {
   "cell_type": "code",
   "execution_count": 9,
   "metadata": {},
   "outputs": [
    {
     "data": {
      "text/html": [
       "<div>\n",
       "<style scoped>\n",
       "    .dataframe tbody tr th:only-of-type {\n",
       "        vertical-align: middle;\n",
       "    }\n",
       "\n",
       "    .dataframe tbody tr th {\n",
       "        vertical-align: top;\n",
       "    }\n",
       "\n",
       "    .dataframe thead th {\n",
       "        text-align: right;\n",
       "    }\n",
       "</style>\n",
       "<table border=\"1\" class=\"dataframe\">\n",
       "  <thead>\n",
       "    <tr style=\"text-align: right;\">\n",
       "      <th></th>\n",
       "      <th>titre</th>\n",
       "      <th>num</th>\n",
       "      <th>ppn</th>\n",
       "      <th>auteur</th>\n",
       "      <th>date</th>\n",
       "    </tr>\n",
       "  </thead>\n",
       "  <tbody>\n",
       "    <tr>\n",
       "      <th>230</th>\n",
       "      <td>Dermatologie. Toute la dermatologie en 1774 qu...</td>\n",
       "      <td>430376</td>\n",
       "      <td>NaN</td>\n",
       "      <td>Hamroun Sabrina</td>\n",
       "      <td>2019</td>\n",
       "    </tr>\n",
       "    <tr>\n",
       "      <th>313</th>\n",
       "      <td>Endocrinologie-Diabétologie-Nutrition 9ème édi...</td>\n",
       "      <td>425643</td>\n",
       "      <td>NaN</td>\n",
       "      <td>NaN</td>\n",
       "      <td>0</td>\n",
       "    </tr>\n",
       "  </tbody>\n",
       "</table>\n",
       "</div>"
      ],
      "text/plain": [
       "                                                 titre     num  ppn  \\\n",
       "230  Dermatologie. Toute la dermatologie en 1774 qu...  430376  NaN   \n",
       "313  Endocrinologie-Diabétologie-Nutrition 9ème édi...  425643  NaN   \n",
       "\n",
       "              auteur  date  \n",
       "230  Hamroun Sabrina  2019  \n",
       "313              NaN     0  "
      ]
     },
     "execution_count": 9,
     "metadata": {},
     "output_type": "execute_result"
    }
   ],
   "source": [
    "df[df.ppn.isnull()].head(2)"
   ]
  },
  {
   "cell_type": "markdown",
   "metadata": {},
   "source": [
    "78 notices concernées (0,2% du total), on supprime les lignes"
   ]
  },
  {
   "cell_type": "code",
   "execution_count": 10,
   "metadata": {},
   "outputs": [],
   "source": [
    "df.dropna(subset=['ppn'], inplace = True) ## 32984 lignes"
   ]
  },
  {
   "cell_type": "code",
   "execution_count": 11,
   "metadata": {},
   "outputs": [
    {
     "data": {
      "text/plain": [
       "(32984, 5)"
      ]
     },
     "execution_count": 11,
     "metadata": {},
     "output_type": "execute_result"
    }
   ],
   "source": [
    "df.shape"
   ]
  },
  {
   "cell_type": "code",
   "execution_count": null,
   "metadata": {},
   "outputs": [],
   "source": [
    "On supprime le préfixe PPN devant les valeurs"
   ]
  },
  {
   "cell_type": "code",
   "execution_count": 12,
   "metadata": {},
   "outputs": [],
   "source": [
    "df['ppn'] =  [re.sub(r'PPN','', str(x)) for x in df['ppn']]"
   ]
  },
  {
   "cell_type": "code",
   "execution_count": null,
   "metadata": {},
   "outputs": [],
   "source": [
    "On vérifie les valeurs"
   ]
  },
  {
   "cell_type": "code",
   "execution_count": null,
   "metadata": {},
   "outputs": [],
   "source": [
    "df.ppn.unique()"
   ]
  },
  {
   "cell_type": "code",
   "execution_count": null,
   "metadata": {},
   "outputs": [],
   "source": [
    "Car par exemple on peut identifier des OCN à la place de ppn"
   ]
  },
  {
   "cell_type": "code",
   "execution_count": null,
   "metadata": {},
   "outputs": [],
   "source": [
    "df[df.ppn.str.contains('OCN', regex= True, na=False)]"
   ]
  },
  {
   "cell_type": "markdown",
   "metadata": {},
   "source": [
    "### Champ Titre"
   ]
  },
  {
   "cell_type": "markdown",
   "metadata": {},
   "source": [
    "Pas de champs vides mais un caractère (^) spécifique aux exports Arc du champ titre : à nettoyer"
   ]
  },
  {
   "cell_type": "code",
   "execution_count": 13,
   "metadata": {},
   "outputs": [],
   "source": [
    "df['titre'] =  [re.sub('\\^',' ',str(x)) for x in df['titre']]"
   ]
  },
  {
   "cell_type": "markdown",
   "metadata": {},
   "source": [
    "Pour la transformation en vecteur de termes, on nettoie le champ en supprimant la ponctuation et mettant tout les caractères en minsucules"
   ]
  },
  {
   "cell_type": "code",
   "execution_count": 14,
   "metadata": {},
   "outputs": [],
   "source": [
    "df['titre'] = [helpers.clean_ponctuation_lowercase(str(x)) for x in df['titre']]"
   ]
  },
  {
   "cell_type": "markdown",
   "metadata": {},
   "source": [
    "On visualise les valeurs uniques (qui donne une idée de la proportion de titres \"génériques\")"
   ]
  },
  {
   "cell_type": "code",
   "execution_count": 15,
   "metadata": {},
   "outputs": [
    {
     "data": {
      "text/plain": [
       "<matplotlib.axes._subplots.AxesSubplot at 0x22300059978>"
      ]
     },
     "execution_count": 15,
     "metadata": {},
     "output_type": "execute_result"
    },
    {
     "data": {
      "image/png": "[encoded data removed]",
      "text/plain": [
       "<Figure size 432x288 with 1 Axes>"
      ]
     },
     "metadata": {
      "needs_background": "light"
     },
     "output_type": "display_data"
    }
   ],
   "source": [
    "df['titre'].value_counts()[:20].plot(kind='barh')"
   ]
  },
  {
   "cell_type": "markdown",
   "metadata": {},
   "source": [
    "### Champ Date"
   ]
  },
  {
   "cell_type": "code",
   "execution_count": 16,
   "metadata": {},
   "outputs": [
    {
     "data": {
      "text/plain": [
       "count    32984.000000\n",
       "mean      2093.240147\n",
       "std        886.335755\n",
       "min          0.000000\n",
       "25%       1990.000000\n",
       "50%       2001.000000\n",
       "75%       2009.000000\n",
       "max       9999.000000\n",
       "Name: date, dtype: float64"
      ]
     },
     "execution_count": 16,
     "metadata": {},
     "output_type": "execute_result"
    }
   ],
   "source": [
    "df.date.describe()"
   ]
  },
  {
   "cell_type": "markdown",
   "metadata": {},
   "source": [
    "On remarque 2 outliers (valeurs extrèmes) pour le champ Date : 0 et 9999, qui faussent la moyenne et les quartiles"
   ]
  },
  {
   "cell_type": "code",
   "execution_count": 18,
   "metadata": {},
   "outputs": [
    {
     "data": {
      "text/plain": [
       "37"
      ]
     },
     "execution_count": 18,
     "metadata": {},
     "output_type": "execute_result"
    }
   ],
   "source": [
    "df['num'].loc[df.date == 0].count() ## 37"
   ]
  },
  {
   "cell_type": "code",
   "execution_count": 19,
   "metadata": {},
   "outputs": [
    {
     "data": {
      "text/plain": [
       "407"
      ]
     },
     "execution_count": 19,
     "metadata": {},
     "output_type": "execute_result"
    }
   ],
   "source": [
    "df['num'].loc[df.date == 9999].count() ## 407"
   ]
  },
  {
   "cell_type": "markdown",
   "metadata": {},
   "source": [
    "On corrige ces valeurs en les remplacant par la médiane"
   ]
  },
  {
   "cell_type": "code",
   "execution_count": 20,
   "metadata": {},
   "outputs": [],
   "source": [
    "df.loc[(df.date == 0) | (df.date == 9999), 'date'] = np.nan\n",
    "df.date = df.date.fillna(df.date.median())\n",
    "df.date = df.date.astype(np.int32)"
   ]
  },
  {
   "cell_type": "markdown",
   "metadata": {},
   "source": [
    "On vérifie toutes les valeurs"
   ]
  },
  {
   "cell_type": "code",
   "execution_count": null,
   "metadata": {},
   "outputs": [],
   "source": [
    "sorted(df.date.unique())"
   ]
  },
  {
   "cell_type": "markdown",
   "metadata": {},
   "source": [
    "et de nouveau les métriques après corrections"
   ]
  },
  {
   "cell_type": "code",
   "execution_count": 21,
   "metadata": {},
   "outputs": [
    {
     "data": {
      "text/plain": [
       "count    32984.000000\n",
       "mean      1996.794931\n",
       "std         15.649084\n",
       "min       1854.000000\n",
       "25%       1990.000000\n",
       "50%       2001.000000\n",
       "75%       2008.000000\n",
       "max       2019.000000\n",
       "Name: date, dtype: float64"
      ]
     },
     "execution_count": 21,
     "metadata": {},
     "output_type": "execute_result"
    }
   ],
   "source": [
    "df.date.describe()\n",
    "## Moyenne : 1996\n",
    "## Médiane : 2001\n",
    "## 75% : 2008"
   ]
  },
  {
   "cell_type": "markdown",
   "metadata": {},
   "source": [
    "Graphique de répartition des notices par date"
   ]
  },
  {
   "cell_type": "code",
   "execution_count": 22,
   "metadata": {},
   "outputs": [
    {
     "data": {
      "image/png": "[encoded data removed]",
      "text/plain": [
       "<Figure size 432x288 with 1 Axes>"
      ]
     },
     "metadata": {
      "needs_background": "light"
     },
     "output_type": "display_data"
    }
   ],
   "source": [
    "df.groupby('date')['date'].count().plot.bar()\n",
    "plt.rcParams[\"figure.figsize\"] = (24, 9)\n",
    "plt.tick_params(axis='x', labelrotation=90)"
   ]
  },
  {
   "cell_type": "markdown",
   "metadata": {},
   "source": [
    "### Champ auteur"
   ]
  },
  {
   "cell_type": "code",
   "execution_count": null,
   "metadata": {},
   "outputs": [],
   "source": [
    "df[df.auteur.isnull()]\n",
    "## 5376 valeurs manquantes soit 16,3%"
   ]
  },
  {
   "cell_type": "markdown",
   "metadata": {},
   "source": [
    "On les replace par des champs vides"
   ]
  },
  {
   "cell_type": "code",
   "execution_count": null,
   "metadata": {},
   "outputs": [],
   "source": [
    "df['auteur'] = df['auteur'].fillna('')"
   ]
  },
  {
   "cell_type": "markdown",
   "metadata": {},
   "source": [
    "Comme pour le champ titre, on nettoie les valeurs avec la même fonction"
   ]
  },
  {
   "cell_type": "code",
   "execution_count": null,
   "metadata": {},
   "outputs": [],
   "source": [
    "df['auteur'] = [helpers.clean_ponctuation_lowercase(str(x)) for x in df['auteur']]"
   ]
  },
  {
   "cell_type": "markdown",
   "metadata": {},
   "source": [
    "Et on applique un traitement supplémentaire de concaténation des chaines de caractères, nécessaire pour que le calcul de similarité s'effectue sur la forme normalisée concaténée et non sur des prénoms isolés par exemple"
   ]
  },
  {
   "cell_type": "code",
   "execution_count": null,
   "metadata": {},
   "outputs": [],
   "source": [
    "def concat_data(x):\n",
    "    if isinstance(x, list):\n",
    "        return [str(i.replace(\" \", \"\")) for i in x]\n",
    "    else:\n",
    "        if isinstance(x, str):\n",
    "            return str(x.replace(\" \", \"\"))\n",
    "        else:\n",
    "            return ''\n",
    "\n",
    "df[\"auteur\"] = df[\"auteur\"].apply(concat_data)"
   ]
  },
  {
   "cell_type": "markdown",
   "metadata": {},
   "source": [
    "## Enrichissement des données\n",
    "\n",
    "### Indexation\n",
    "\n",
    "On applique une fonction qui récupère les points d'accès sujets de la notice Sudoc en interrogeant l'APi Unimarc/xml avec le ppn en paramètre"
   ]
  },
  {
   "cell_type": "code",
   "execution_count": null,
   "metadata": {},
   "outputs": [],
   "source": [
    "def get_rameau(row):\n",
    "    try:\n",
    "        url = 'https://www.sudoc.fr/' + str(row['ppn'])  + '.xml'        \n",
    "        response = (requests.get(url).text)\n",
    "        responseXml = ET.fromstring(response)\n",
    "        return [result.text for result in responseXml.findall(\"./datafield[@tag='606']/subfield[@code='a']\")]\n",
    "    \n",
    "    except:\n",
    "        pass\n",
    "        \n",
    "df['indexation'] = df.apply(get_rameau, axis=1) "
   ]
  },
  {
   "cell_type": "code",
   "execution_count": null,
   "metadata": {},
   "outputs": [],
   "source": [
    "df.indexation.describe()\n",
    "df.indexation.head(5)"
   ]
  },
  {
   "cell_type": "markdown",
   "metadata": {},
   "source": [
    "Toutes les notices sont indexées mais \n",
    "\n",
    "* les valeurs se présentent sous forme de tableaux stockés comme des chaines de caractères\n",
    "* certains points d'accès doublonnent (notamment lors d'une double indaxtion Rameau/LCC par exemple)\n",
    "\n",
    "il faut donc \"destringifier\" les tableaux, en supprimer les doublons puis les décomposer en chaines de caractères concaténées"
   ]
  },
  {
   "cell_type": "code",
   "execution_count": null,
   "metadata": {},
   "outputs": [],
   "source": [
    "df['indexation_clean_dedup'] = df['indexation'].apply(lambda x : \";\".join(np.unique([str.lower(word).strip().replace(\"d'\",\"\").replace(\"'\",'').replace('\"','') for word in x])))"
   ]
  },
  {
   "cell_type": "markdown",
   "metadata": {},
   "source": [
    "On vérifie la nouvelle colonne"
   ]
  },
  {
   "cell_type": "code",
   "execution_count": null,
   "metadata": {},
   "outputs": [],
   "source": [
    "df.indexation_clean_dedup.head(20)\n",
    "## game theory;sciences sociales;social sciences;...\n",
    "## economics;game theory;political science;politi...\n",
    "## algorithmes;informatique;mathématiques;turbo p..."
   ]
  },
  {
   "cell_type": "markdown",
   "metadata": {},
   "source": [
    "### [Non appliqué] Nombre de localisations\n",
    "\n",
    "On pourrait également compléter les données en ajoutant le nombre de localisations Sudoc pour chaque notice (pour par exemple servir de paramètre de tri dans l'affichage des recommandations)"
   ]
  },
  {
   "cell_type": "code",
   "execution_count": null,
   "metadata": {},
   "outputs": [],
   "source": [
    "def get_multiwhere(row):\n",
    "    if str(row['ppn1']).isdigit():\n",
    "        try:\n",
    "            url = 'http://www.sudoc.fr/services/multiwhere/' + str(row['ppn'])  + '&format=text/json'        \n",
    "            response = (requests.get(url).text)\n",
    "            response_json = json.loads(response)\n",
    "            time.sleep(0.5)\n",
    "            return len(response_json['sudoc']['query']['result']['library'])    \n",
    "        except:\n",
    "            pass\n",
    "    else:\n",
    "        pass\n",
    "    \n",
    "df['locs'] = df.apply(get_multiwhere, axis=1)"
   ]
  },
  {
   "cell_type": "markdown",
   "metadata": {},
   "source": [
    "## Calcul de la similarité\n",
    "\n",
    "### création de la \"soupe de données\"\n",
    "\n",
    "On concatène les champs titre-auteur-indexation en une liste d'occurences dans une nouvelle colonne"
   ]
  },
  {
   "cell_type": "code",
   "execution_count": null,
   "metadata": {},
   "outputs": [],
   "source": [
    "def create_all_metadata(x):\n",
    "    return str(x[\"titre\"]).strip() + \" \" + str(x[\"auteur\"]).strip() + \" \" + str(x[\"indexation_clean_dedup\"]).strip()\n",
    "df['all_metadata'] = df.apply(create_all_metadata, axis=1)"
   ]
  },
  {
   "cell_type": "markdown",
   "metadata": {},
   "source": [
    "On importe la librairie dédiée au text mining et ses dictionnaires de stopwords"
   ]
  },
  {
   "cell_type": "code",
   "execution_count": null,
   "metadata": {},
   "outputs": [],
   "source": [
    "import nltk\n",
    "nltk.download('stopwords')\n",
    "from nltk.corpus import stopwords"
   ]
  },
  {
   "cell_type": "markdown",
   "metadata": {},
   "source": [
    "On exclue les stopwords (mots n'ayant pas de signification : articles, adverbes...) en français et en anglais\n",
    "Pour le français on exclue aussi \"l'\" et \"d'\" qui ne font pas partie de la liste stopwords français de nlkt\n",
    "\n",
    "*stopwords.words('french').extend([\"l'\",\"d'\"]) ne marche pas*\n"
   ]
  },
  {
   "cell_type": "code",
   "execution_count": null,
   "metadata": {},
   "outputs": [],
   "source": [
    "stop_fr = stopwords.words('french')\n",
    "df['metadata_stop_fr'] = df['all_metadata'].apply(lambda x: ' '.join([word.replace(\"l'\",\"\").replace(\"d'\",\"\")\n",
    "stop_en = stopwords.words('english')    \n",
    "df['metadata_stop_fr_en'] = df['metadata_stop_fr'].apply(lambda x: ' '.join([word for word in x.split() if word not in (stop_en)]))"
   ]
  },
  {
   "cell_type": "code",
   "execution_count": null,
   "metadata": {},
   "outputs": [],
   "source": [
    "df['metadata_stop_fr_en']"
   ]
  },
  {
   "cell_type": "markdown",
   "metadata": {},
   "source": [
    "### Sauvegarde"
   ]
  },
  {
   "cell_type": "code",
   "execution_count": null,
   "metadata": {},
   "outputs": [],
   "source": [
    "df.to_csv(\"data/05_model_input/exemplaires_sja_nltk_complete.csv\", sep = ';', index=False, encoding='utf8')"
   ]
  },
  {
   "cell_type": "markdown",
   "metadata": {},
   "source": [
    "### CountVectorizer (méthode choisie)"
   ]
  },
  {
   "cell_type": "code",
   "execution_count": 3,
   "metadata": {},
   "outputs": [],
   "source": [
    "## import de la classe CountVectorizer de la bibliothèque de ML scikit-learn\n",
    "from sklearn.feature_extraction.text import CountVectorizer"
   ]
  },
  {
   "cell_type": "code",
   "execution_count": 4,
   "metadata": {},
   "outputs": [
    {
     "data": {
      "text/plain": [
       "(32981, 39627)"
      ]
     },
     "execution_count": 4,
     "metadata": {},
     "output_type": "execute_result"
    }
   ],
   "source": [
    "## on crée l'objet CountVectorizer\n",
    "count = CountVectorizer()\n",
    "## méthode fit_transform pour générer la mtrice\n",
    "count_matrix = count.fit_transform(df['metadata_stop_fr_en'])\n",
    "count_matrix.shape"
   ]
  },
  {
   "cell_type": "markdown",
   "metadata": {},
   "source": [
    "#### TfidVectorizer (autre possibilité)"
   ]
  },
  {
   "cell_type": "code",
   "execution_count": null,
   "metadata": {},
   "outputs": [],
   "source": [
    "## import de la classe TfidfVectorizer de la bibliothèque de ML scikit-learn\n",
    "from sklearn.feature_extraction.text import TfidfVectorizer"
   ]
  },
  {
   "cell_type": "code",
   "execution_count": null,
   "metadata": {},
   "outputs": [],
   "source": [
    "## on crée l'objet TfidfVectorizer\n",
    "tfidf = TfidfVectorizer()\n",
    "## méthode fit_transform pour générer la mtrice\n",
    "tfidf_matrix = tfidf.fit_transform(df['metadata_stop_fr_en'])\n",
    "tfidf_matrix.shape"
   ]
  },
  {
   "cell_type": "markdown",
   "metadata": {},
   "source": [
    "### Fonction de calcul de similarité cosinus"
   ]
  },
  {
   "cell_type": "code",
   "execution_count": 5,
   "metadata": {},
   "outputs": [],
   "source": [
    "## import de la fonction de calcul de la distance cosinus de la bibliothèque de ML scikit-learn\n",
    "from sklearn.metrics.pairwise import cosine_similarity\n",
    "## pour la sérialisation du modèle et le pipeline de data\n",
    "import joblib"
   ]
  },
  {
   "cell_type": "code",
   "execution_count": 7,
   "metadata": {},
   "outputs": [
    {
     "data": {
      "text/plain": [
       "['model.pkl']"
      ]
     },
     "execution_count": 7,
     "metadata": {},
     "output_type": "execute_result"
    }
   ],
   "source": [
    "cosine_sim = cosine_similarity(count_matrix, count_matrix)\n",
    "## sauvegarde du modèle\n",
    "joblib.dump(cosine_sim, 'data/06_models/model.pkl', compress=4)"
   ]
  },
  {
   "cell_type": "code",
   "execution_count": null,
   "metadata": {},
   "outputs": [],
   "source": [
    "## et enfin la fonction qui fournit les 10 documents les plus proches\n",
    "indices = pd.Series(df.index, index=df['num']).drop_duplicates()\n",
    "def getRecommendations(num, cosine_sim=cosine_sim):\n",
    "    idx = indices[num]\n",
    "    sim_scores = list(enumerate(cosine_sim[idx]))\n",
    "    sim_scores = sorted(sim_scores, key=lambda x: x[1], reverse=True)\n",
    "    sim_scores = sim_scores[1:11]\n",
    "    item_indices = [i[0] for i in sim_scores]\n",
    "    return df['titre'].iloc[item_indices]"
   ]
  }
 ],
 "metadata": {
  "kernelspec": {
   "display_name": "Python 3.7.4 ('venv_recommandations': venv)",
   "language": "python",
   "name": "python3"
  },
  "language_info": {
   "codemirror_mode": {
    "name": "ipython",
    "version": 3
   },
   "file_extension": ".py",
   "mimetype": "text/x-python",
   "name": "python",
   "nbconvert_exporter": "python",
   "pygments_lexer": "ipython3",
   "version": "3.7.4"
  },
  "vscode": {
   "interpreter": {
    "hash": "2a05c07648896c50e73b2875d757ee3466cbbf9c777007d1f44a74b2989fd146"
   }
  }
 },
 "nbformat": 4,
 "nbformat_minor": 4
}
