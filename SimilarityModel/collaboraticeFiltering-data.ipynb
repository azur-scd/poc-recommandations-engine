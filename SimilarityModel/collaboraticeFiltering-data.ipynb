{
 "cells": [
  {
   "cell_type": "code",
   "execution_count": 8,
   "metadata": {},
   "outputs": [],
   "source": [
    "%matplotlib inline"
   ]
  },
  {
   "cell_type": "code",
   "execution_count": 9,
   "metadata": {},
   "outputs": [],
   "source": [
    "import numpy as np\n",
    "import pandas as pd\n",
    "import matplotlib.pyplot as plt\n",
    "import commonfunctions as cf"
   ]
  },
  {
   "cell_type": "markdown",
   "metadata": {},
   "source": [
    "# Collaborative filtering méthode"
   ]
  },
  {
   "cell_type": "markdown",
   "metadata": {},
   "source": [
    "## Etape préliminaire : filtrer sur les exemplaires de la BU SJA et anonymiser les identifiants système des lecteurs dans le fichier source"
   ]
  },
  {
   "cell_type": "code",
   "execution_count": null,
   "metadata": {},
   "outputs": [],
   "source": [
    "df = pd.read_csv('data/collaborative-filtering_tous_prets.csv', sep = '\t')\n",
    "df.shape ## 488 273 lignes"
   ]
  },
  {
   "cell_type": "markdown",
   "metadata": {},
   "source": [
    "On filtre sur les exemplaires localisés à la BU SJA prêtés depuis 2015 et sur les prêts hors enregistrements de prêt sur les compte des BU pour la gestion du transit inter-BU"
   ]
  },
  {
   "cell_type": "code",
   "execution_count": 72,
   "metadata": {},
   "outputs": [
    {
     "data": {
      "text/plain": [
       "(61045, 20)"
      ]
     },
     "execution_count": 72,
     "metadata": {},
     "output_type": "execute_result"
    }
   ],
   "source": [
    "df = df[df['Id. Bibliothèque exemplaire actuelle'] == 'SJA']\n",
    "df.shape ## 61 045 lignes"
   ]
  },
  {
   "cell_type": "code",
   "execution_count": 73,
   "metadata": {},
   "outputs": [
    {
     "data": {
      "text/plain": [
       "(31641, 20)"
      ]
     },
     "execution_count": 73,
     "metadata": {},
     "output_type": "execute_result"
    }
   ],
   "source": [
    "df = df[df['Année Prêt'] >= 2015]\n",
    "df.shape ## 31 641 ligne"
   ]
  },
  {
   "cell_type": "code",
   "execution_count": 75,
   "metadata": {},
   "outputs": [
    {
     "data": {
      "text/plain": [
       "(26241, 20)"
      ]
     },
     "execution_count": 75,
     "metadata": {},
     "output_type": "execute_result"
    }
   ],
   "source": [
    "df = df[df['ID Lecteur'].str.contains(\"ID\")]\n",
    "df.shape ## 26 241 lignes"
   ]
  },
  {
   "cell_type": "markdown",
   "metadata": {},
   "source": [
    "Id anonymisés dans une nouvelle colonne"
   ]
  },
  {
   "cell_type": "code",
   "execution_count": 76,
   "metadata": {},
   "outputs": [],
   "source": [
    "labels, uniques =  pd.factorize(df['ID Lecteur'])\n",
    "labels = ['person_'+str(l) for l in labels]\n",
    "df['id_lecteur'] = labels"
   ]
  },
  {
   "cell_type": "markdown",
   "metadata": {},
   "source": [
    "Suppression de la colonne initiale des Id lecteurs"
   ]
  },
  {
   "cell_type": "code",
   "execution_count": 77,
   "metadata": {},
   "outputs": [],
   "source": [
    "df.drop(['ID Lecteur'], axis=1, inplace=True)"
   ]
  },
  {
   "cell_type": "markdown",
   "metadata": {},
   "source": [
    "Et on sauvegarde dans un nouveau fichier"
   ]
  },
  {
   "cell_type": "code",
   "execution_count": null,
   "metadata": {},
   "outputs": [],
   "source": [
    "df.to_csv(\"data/collaborative-filtering_SJA_anonymized.csv\", sep = ';', index=False, encoding='utf8')"
   ]
  },
  {
   "cell_type": "markdown",
   "metadata": {},
   "source": [
    "## Nettoyage/analyse stats des données"
   ]
  },
  {
   "cell_type": "code",
   "execution_count": 3,
   "metadata": {},
   "outputs": [
    {
     "data": {
      "text/html": [
       "<div>\n",
       "<style scoped>\n",
       "    .dataframe tbody tr th:only-of-type {\n",
       "        vertical-align: middle;\n",
       "    }\n",
       "\n",
       "    .dataframe tbody tr th {\n",
       "        vertical-align: top;\n",
       "    }\n",
       "\n",
       "    .dataframe thead th {\n",
       "        text-align: right;\n",
       "    }\n",
       "</style>\n",
       "<table border=\"1\" class=\"dataframe\">\n",
       "  <thead>\n",
       "    <tr style=\"text-align: right;\">\n",
       "      <th></th>\n",
       "      <th>Nbre de Prêts</th>\n",
       "      <th>Jour Prêt</th>\n",
       "      <th>Date Prêt</th>\n",
       "      <th>Année Prêt</th>\n",
       "      <th>Desc Statut Lecteur</th>\n",
       "      <th>ID Type Lecteur</th>\n",
       "      <th>Id. Bibliothèque exemplaire actuelle</th>\n",
       "      <th>Date Publication</th>\n",
       "      <th>ID Type Matériel</th>\n",
       "      <th>Desc Cote Principale</th>\n",
       "      <th>Desc Cote Début</th>\n",
       "      <th>No Doc</th>\n",
       "      <th>Titre</th>\n",
       "      <th>Desc2</th>\n",
       "      <th>Auteur</th>\n",
       "      <th>Editeur</th>\n",
       "      <th>Desc4</th>\n",
       "      <th>No de Notice BIB</th>\n",
       "      <th>Mois Prêt</th>\n",
       "      <th>id_lecteur</th>\n",
       "    </tr>\n",
       "  </thead>\n",
       "  <tbody>\n",
       "    <tr>\n",
       "      <th>0</th>\n",
       "      <td>1</td>\n",
       "      <td>Lundi</td>\n",
       "      <td>2015-05-04 00:00:00</td>\n",
       "      <td>2015</td>\n",
       "      <td>[Services] Doctorant</td>\n",
       "      <td>DO</td>\n",
       "      <td>SJA</td>\n",
       "      <td>2013</td>\n",
       "      <td>L</td>\n",
       "      <td>616 KB</td>\n",
       "      <td>616</td>\n",
       "      <td>337328</td>\n",
       "      <td>Hépato-gastro-entérologie, chirurgie digestive</td>\n",
       "      <td>NaN</td>\n",
       "      <td>Zeitoun, Jean-David</td>\n",
       "      <td>Éd. Vernazobres-Grego</td>\n",
       "      <td>PPN172794439</td>\n",
       "      <td>337328</td>\n",
       "      <td>5</td>\n",
       "      <td>person_0</td>\n",
       "    </tr>\n",
       "  </tbody>\n",
       "</table>\n",
       "</div>"
      ],
      "text/plain": [
       "   Nbre de Prêts Jour Prêt            Date Prêt  Année Prêt  \\\n",
       "0              1     Lundi  2015-05-04 00:00:00        2015   \n",
       "\n",
       "    Desc Statut Lecteur ID Type Lecteur Id. Bibliothèque exemplaire actuelle  \\\n",
       "0  [Services] Doctorant              DO                                  SJA   \n",
       "\n",
       "   Date Publication ID Type Matériel Desc Cote Principale  Desc Cote Début  \\\n",
       "0              2013                L               616 KB              616   \n",
       "\n",
       "   No Doc                                           Titre Desc2  \\\n",
       "0  337328  Hépato-gastro-entérologie, chirurgie digestive   NaN   \n",
       "\n",
       "                Auteur                Editeur         Desc4  No de Notice BIB  \\\n",
       "0  Zeitoun, Jean-David  Éd. Vernazobres-Grego  PPN172794439            337328   \n",
       "\n",
       "   Mois Prêt id_lecteur  \n",
       "0          5   person_0  "
      ]
     },
     "execution_count": 3,
     "metadata": {},
     "output_type": "execute_result"
    }
   ],
   "source": [
    "dfsja = pd.read_csv('data/collaborative-filtering_sja_anonymized.csv', sep = ';')\n",
    "dfsja.head(1)"
   ]
  },
  {
   "cell_type": "markdown",
   "metadata": {},
   "source": [
    "### Suppression et renommage de colonnes"
   ]
  },
  {
   "cell_type": "code",
   "execution_count": 4,
   "metadata": {},
   "outputs": [],
   "source": [
    "dfsja.drop(['Date Prêt', 'Desc Statut Lecteur', 'Id. Bibliothèque exemplaire actuelle', 'ID Type Matériel', 'Desc Cote Principale', 'No Doc', 'Desc2', 'Auteur', 'Editeur'], axis = 1, inplace = True)"
   ]
  },
  {
   "cell_type": "code",
   "execution_count": 5,
   "metadata": {},
   "outputs": [
    {
     "data": {
      "text/html": [
       "<div>\n",
       "<style scoped>\n",
       "    .dataframe tbody tr th:only-of-type {\n",
       "        vertical-align: middle;\n",
       "    }\n",
       "\n",
       "    .dataframe tbody tr th {\n",
       "        vertical-align: top;\n",
       "    }\n",
       "\n",
       "    .dataframe thead th {\n",
       "        text-align: right;\n",
       "    }\n",
       "</style>\n",
       "<table border=\"1\" class=\"dataframe\">\n",
       "  <thead>\n",
       "    <tr style=\"text-align: right;\">\n",
       "      <th></th>\n",
       "      <th>Nbre de Prêts</th>\n",
       "      <th>Jour Prêt</th>\n",
       "      <th>Année Prêt</th>\n",
       "      <th>ID Type Lecteur</th>\n",
       "      <th>Date Publication</th>\n",
       "      <th>Desc Cote Début</th>\n",
       "      <th>Titre</th>\n",
       "      <th>Desc4</th>\n",
       "      <th>No de Notice BIB</th>\n",
       "      <th>Mois Prêt</th>\n",
       "      <th>id_lecteur</th>\n",
       "    </tr>\n",
       "  </thead>\n",
       "  <tbody>\n",
       "    <tr>\n",
       "      <th>0</th>\n",
       "      <td>1</td>\n",
       "      <td>Lundi</td>\n",
       "      <td>2015</td>\n",
       "      <td>DO</td>\n",
       "      <td>2013</td>\n",
       "      <td>616</td>\n",
       "      <td>Hépato-gastro-entérologie, chirurgie digestive</td>\n",
       "      <td>PPN172794439</td>\n",
       "      <td>337328</td>\n",
       "      <td>5</td>\n",
       "      <td>person_0</td>\n",
       "    </tr>\n",
       "  </tbody>\n",
       "</table>\n",
       "</div>"
      ],
      "text/plain": [
       "   Nbre de Prêts Jour Prêt  Année Prêt ID Type Lecteur  Date Publication  \\\n",
       "0              1     Lundi        2015              DO              2013   \n",
       "\n",
       "   Desc Cote Début                                           Titre  \\\n",
       "0              616  Hépato-gastro-entérologie, chirurgie digestive   \n",
       "\n",
       "          Desc4  No de Notice BIB  Mois Prêt id_lecteur  \n",
       "0  PPN172794439            337328          5   person_0  "
      ]
     },
     "execution_count": 5,
     "metadata": {},
     "output_type": "execute_result"
    }
   ],
   "source": [
    "dfsja.head(1)"
   ]
  },
  {
   "cell_type": "code",
   "execution_count": 6,
   "metadata": {},
   "outputs": [],
   "source": [
    "dfsja.columns = ['nb_pret', 'jour_pret', 'annee_pret', 'type_lecteur', 'date_pub', 'indice', 'titre', 'ppn', 'num', 'mois_pret', 'id_lecteur']"
   ]
  },
  {
   "cell_type": "code",
   "execution_count": 7,
   "metadata": {},
   "outputs": [
    {
     "data": {
      "text/html": [
       "<div>\n",
       "<style scoped>\n",
       "    .dataframe tbody tr th:only-of-type {\n",
       "        vertical-align: middle;\n",
       "    }\n",
       "\n",
       "    .dataframe tbody tr th {\n",
       "        vertical-align: top;\n",
       "    }\n",
       "\n",
       "    .dataframe thead th {\n",
       "        text-align: right;\n",
       "    }\n",
       "</style>\n",
       "<table border=\"1\" class=\"dataframe\">\n",
       "  <thead>\n",
       "    <tr style=\"text-align: right;\">\n",
       "      <th></th>\n",
       "      <th>nb_pret</th>\n",
       "      <th>jour_pret</th>\n",
       "      <th>annee_pret</th>\n",
       "      <th>type_lecteur</th>\n",
       "      <th>date_pub</th>\n",
       "      <th>indice</th>\n",
       "      <th>titre</th>\n",
       "      <th>ppn</th>\n",
       "      <th>num</th>\n",
       "      <th>mois_pret</th>\n",
       "      <th>id_lecteur</th>\n",
       "    </tr>\n",
       "  </thead>\n",
       "  <tbody>\n",
       "    <tr>\n",
       "      <th>count</th>\n",
       "      <td>26241.000000</td>\n",
       "      <td>26241</td>\n",
       "      <td>26241.000000</td>\n",
       "      <td>26241</td>\n",
       "      <td>26241.000000</td>\n",
       "      <td>26241.000000</td>\n",
       "      <td>26241</td>\n",
       "      <td>26236</td>\n",
       "      <td>26241.000000</td>\n",
       "      <td>26241.000000</td>\n",
       "      <td>26241</td>\n",
       "    </tr>\n",
       "    <tr>\n",
       "      <th>unique</th>\n",
       "      <td>NaN</td>\n",
       "      <td>7</td>\n",
       "      <td>NaN</td>\n",
       "      <td>19</td>\n",
       "      <td>NaN</td>\n",
       "      <td>NaN</td>\n",
       "      <td>4192</td>\n",
       "      <td>5760</td>\n",
       "      <td>NaN</td>\n",
       "      <td>NaN</td>\n",
       "      <td>4712</td>\n",
       "    </tr>\n",
       "    <tr>\n",
       "      <th>top</th>\n",
       "      <td>NaN</td>\n",
       "      <td>Mardi</td>\n",
       "      <td>NaN</td>\n",
       "      <td>M2</td>\n",
       "      <td>NaN</td>\n",
       "      <td>NaN</td>\n",
       "      <td>Management</td>\n",
       "      <td>PPN183659562</td>\n",
       "      <td>NaN</td>\n",
       "      <td>NaN</td>\n",
       "      <td>person_119</td>\n",
       "    </tr>\n",
       "    <tr>\n",
       "      <th>freq</th>\n",
       "      <td>NaN</td>\n",
       "      <td>4615</td>\n",
       "      <td>NaN</td>\n",
       "      <td>9249</td>\n",
       "      <td>NaN</td>\n",
       "      <td>NaN</td>\n",
       "      <td>348</td>\n",
       "      <td>112</td>\n",
       "      <td>NaN</td>\n",
       "      <td>NaN</td>\n",
       "      <td>375</td>\n",
       "    </tr>\n",
       "    <tr>\n",
       "      <th>mean</th>\n",
       "      <td>1.005068</td>\n",
       "      <td>NaN</td>\n",
       "      <td>2016.637438</td>\n",
       "      <td>NaN</td>\n",
       "      <td>2009.929500</td>\n",
       "      <td>597.509965</td>\n",
       "      <td>NaN</td>\n",
       "      <td>NaN</td>\n",
       "      <td>268615.185664</td>\n",
       "      <td>5.879692</td>\n",
       "      <td>NaN</td>\n",
       "    </tr>\n",
       "    <tr>\n",
       "      <th>std</th>\n",
       "      <td>0.078652</td>\n",
       "      <td>NaN</td>\n",
       "      <td>1.323489</td>\n",
       "      <td>NaN</td>\n",
       "      <td>14.042012</td>\n",
       "      <td>139.549473</td>\n",
       "      <td>NaN</td>\n",
       "      <td>NaN</td>\n",
       "      <td>125553.002458</td>\n",
       "      <td>3.615269</td>\n",
       "      <td>NaN</td>\n",
       "    </tr>\n",
       "    <tr>\n",
       "      <th>min</th>\n",
       "      <td>1.000000</td>\n",
       "      <td>NaN</td>\n",
       "      <td>2015.000000</td>\n",
       "      <td>NaN</td>\n",
       "      <td>0.000000</td>\n",
       "      <td>1.000000</td>\n",
       "      <td>NaN</td>\n",
       "      <td>NaN</td>\n",
       "      <td>146.000000</td>\n",
       "      <td>1.000000</td>\n",
       "      <td>NaN</td>\n",
       "    </tr>\n",
       "    <tr>\n",
       "      <th>25%</th>\n",
       "      <td>1.000000</td>\n",
       "      <td>NaN</td>\n",
       "      <td>2015.000000</td>\n",
       "      <td>NaN</td>\n",
       "      <td>2008.000000</td>\n",
       "      <td>616.000000</td>\n",
       "      <td>NaN</td>\n",
       "      <td>NaN</td>\n",
       "      <td>126690.000000</td>\n",
       "      <td>3.000000</td>\n",
       "      <td>NaN</td>\n",
       "    </tr>\n",
       "    <tr>\n",
       "      <th>50%</th>\n",
       "      <td>1.000000</td>\n",
       "      <td>NaN</td>\n",
       "      <td>2017.000000</td>\n",
       "      <td>NaN</td>\n",
       "      <td>2012.000000</td>\n",
       "      <td>657.000000</td>\n",
       "      <td>NaN</td>\n",
       "      <td>NaN</td>\n",
       "      <td>325435.000000</td>\n",
       "      <td>5.000000</td>\n",
       "      <td>NaN</td>\n",
       "    </tr>\n",
       "    <tr>\n",
       "      <th>75%</th>\n",
       "      <td>1.000000</td>\n",
       "      <td>NaN</td>\n",
       "      <td>2018.000000</td>\n",
       "      <td>NaN</td>\n",
       "      <td>2014.000000</td>\n",
       "      <td>658.000000</td>\n",
       "      <td>NaN</td>\n",
       "      <td>NaN</td>\n",
       "      <td>354876.000000</td>\n",
       "      <td>10.000000</td>\n",
       "      <td>NaN</td>\n",
       "    </tr>\n",
       "    <tr>\n",
       "      <th>max</th>\n",
       "      <td>5.000000</td>\n",
       "      <td>NaN</td>\n",
       "      <td>2019.000000</td>\n",
       "      <td>NaN</td>\n",
       "      <td>2019.000000</td>\n",
       "      <td>995.000000</td>\n",
       "      <td>NaN</td>\n",
       "      <td>NaN</td>\n",
       "      <td>431634.000000</td>\n",
       "      <td>12.000000</td>\n",
       "      <td>NaN</td>\n",
       "    </tr>\n",
       "  </tbody>\n",
       "</table>\n",
       "</div>"
      ],
      "text/plain": [
       "             nb_pret jour_pret    annee_pret type_lecteur      date_pub  \\\n",
       "count   26241.000000     26241  26241.000000        26241  26241.000000   \n",
       "unique           NaN         7           NaN           19           NaN   \n",
       "top              NaN     Mardi           NaN           M2           NaN   \n",
       "freq             NaN      4615           NaN         9249           NaN   \n",
       "mean        1.005068       NaN   2016.637438          NaN   2009.929500   \n",
       "std         0.078652       NaN      1.323489          NaN     14.042012   \n",
       "min         1.000000       NaN   2015.000000          NaN      0.000000   \n",
       "25%         1.000000       NaN   2015.000000          NaN   2008.000000   \n",
       "50%         1.000000       NaN   2017.000000          NaN   2012.000000   \n",
       "75%         1.000000       NaN   2018.000000          NaN   2014.000000   \n",
       "max         5.000000       NaN   2019.000000          NaN   2019.000000   \n",
       "\n",
       "              indice       titre           ppn            num     mois_pret  \\\n",
       "count   26241.000000       26241         26236   26241.000000  26241.000000   \n",
       "unique           NaN        4192          5760            NaN           NaN   \n",
       "top              NaN  Management  PPN183659562            NaN           NaN   \n",
       "freq             NaN         348           112            NaN           NaN   \n",
       "mean      597.509965         NaN           NaN  268615.185664      5.879692   \n",
       "std       139.549473         NaN           NaN  125553.002458      3.615269   \n",
       "min         1.000000         NaN           NaN     146.000000      1.000000   \n",
       "25%       616.000000         NaN           NaN  126690.000000      3.000000   \n",
       "50%       657.000000         NaN           NaN  325435.000000      5.000000   \n",
       "75%       658.000000         NaN           NaN  354876.000000     10.000000   \n",
       "max       995.000000         NaN           NaN  431634.000000     12.000000   \n",
       "\n",
       "        id_lecteur  \n",
       "count        26241  \n",
       "unique        4712  \n",
       "top     person_119  \n",
       "freq           375  \n",
       "mean           NaN  \n",
       "std            NaN  \n",
       "min            NaN  \n",
       "25%            NaN  \n",
       "50%            NaN  \n",
       "75%            NaN  \n",
       "max            NaN  "
      ]
     },
     "execution_count": 7,
     "metadata": {},
     "output_type": "execute_result"
    }
   ],
   "source": [
    "dfsja.describe(include='all')"
   ]
  },
  {
   "cell_type": "markdown",
   "metadata": {},
   "source": [
    "### Gestion des valeurs nulles et des outliers"
   ]
  },
  {
   "cell_type": "code",
   "execution_count": 16,
   "metadata": {},
   "outputs": [
    {
     "name": "stdout",
     "output_type": "stream",
     "text": [
      "Your selected dataframe has 11 columns and 26241 Rows.\n",
      "There are 1 columns that have missing values.\n"
     ]
    },
    {
     "data": {
      "text/html": [
       "<div>\n",
       "<style scoped>\n",
       "    .dataframe tbody tr th:only-of-type {\n",
       "        vertical-align: middle;\n",
       "    }\n",
       "\n",
       "    .dataframe tbody tr th {\n",
       "        vertical-align: top;\n",
       "    }\n",
       "\n",
       "    .dataframe thead th {\n",
       "        text-align: right;\n",
       "    }\n",
       "</style>\n",
       "<table border=\"1\" class=\"dataframe\">\n",
       "  <thead>\n",
       "    <tr style=\"text-align: right;\">\n",
       "      <th></th>\n",
       "      <th>Zero Values</th>\n",
       "      <th>Missing Values</th>\n",
       "      <th>% of Total Values</th>\n",
       "      <th>Total Zero Missing Values</th>\n",
       "      <th>% Total Zero Missing Values</th>\n",
       "      <th>Data Type</th>\n",
       "    </tr>\n",
       "  </thead>\n",
       "  <tbody>\n",
       "    <tr>\n",
       "      <th>ppn</th>\n",
       "      <td>0</td>\n",
       "      <td>5</td>\n",
       "      <td>0.0</td>\n",
       "      <td>5</td>\n",
       "      <td>0.0</td>\n",
       "      <td>object</td>\n",
       "    </tr>\n",
       "  </tbody>\n",
       "</table>\n",
       "</div>"
      ],
      "text/plain": [
       "     Zero Values  Missing Values  % of Total Values  \\\n",
       "ppn            0               5                0.0   \n",
       "\n",
       "     Total Zero Missing Values  % Total Zero Missing Values Data Type  \n",
       "ppn                          5                          0.0    object  "
      ]
     },
     "execution_count": 16,
     "metadata": {},
     "output_type": "execute_result"
    }
   ],
   "source": [
    "cf.missing_zero_values_table(dfsja)"
   ]
  },
  {
   "cell_type": "markdown",
   "metadata": {},
   "source": [
    "#### PPN"
   ]
  },
  {
   "cell_type": "code",
   "execution_count": 17,
   "metadata": {},
   "outputs": [
    {
     "data": {
      "text/plain": [
       "11135    421028\n",
       "13870    425433\n",
       "14087    421190\n",
       "19611    421028\n",
       "24861    424619\n",
       "Name: num, dtype: int64"
      ]
     },
     "execution_count": 17,
     "metadata": {},
     "output_type": "execute_result"
    }
   ],
   "source": [
    "dfsja.num[dfsja.ppn.isnull()]"
   ]
  },
  {
   "cell_type": "markdown",
   "metadata": {},
   "source": [
    "On supprime aussi dans ce dataframe les exemplaires dont les ppn sont vides"
   ]
  },
  {
   "cell_type": "code",
   "execution_count": 8,
   "metadata": {},
   "outputs": [],
   "source": [
    "dfsja.dropna(subset=['ppn'], inplace = True)"
   ]
  },
  {
   "cell_type": "code",
   "execution_count": 9,
   "metadata": {},
   "outputs": [
    {
     "data": {
      "text/plain": [
       "(26236, 11)"
      ]
     },
     "execution_count": 9,
     "metadata": {},
     "output_type": "execute_result"
    }
   ],
   "source": [
    "dfsja.shape ## 26 236 lignes"
   ]
  },
  {
   "cell_type": "markdown",
   "metadata": {},
   "source": [
    "#### Dates de publication"
   ]
  },
  {
   "cell_type": "code",
   "execution_count": 19,
   "metadata": {},
   "outputs": [
    {
     "data": {
      "text/plain": [
       "array([2013, 2008, 2016, 2011, 2001, 2015, 2014, 2012, 2018, 2007, 1999,\n",
       "       1994, 2017, 2005, 2009, 1991, 1974, 2004, 2010, 1995, 1979, 1972,\n",
       "       2006, 1997, 1996, 2000, 2002, 1987, 1978, 1951, 1973, 2003, 1993,\n",
       "       1950, 1982, 2019, 1992, 1990, 1989, 1985, 1984, 1986, 1983, 1998,\n",
       "       1967, 1969, 1952, 1975, 1976, 1962, 1981, 1970, 1988, 1954, 1971,\n",
       "       1977, 1968, 1966, 1958, 1939, 1961, 1935, 1960, 1933, 1980, 1949,\n",
       "       1959, 1938, 1965, 1964, 1955], dtype=int64)"
      ]
     },
     "execution_count": 19,
     "metadata": {},
     "output_type": "execute_result"
    }
   ],
   "source": [
    "dfsja.date_pub.unique()"
   ]
  },
  {
   "cell_type": "code",
   "execution_count": 20,
   "metadata": {},
   "outputs": [
    {
     "data": {
      "text/plain": [
       "{'whiskers': [<matplotlib.lines.Line2D at 0x185d9328748>,\n",
       "  <matplotlib.lines.Line2D at 0x185d9328a90>],\n",
       " 'caps': [<matplotlib.lines.Line2D at 0x185d9328dd8>,\n",
       "  <matplotlib.lines.Line2D at 0x185d9328e80>],\n",
       " 'boxes': [<matplotlib.lines.Line2D at 0x185d9328320>],\n",
       " 'medians': [<matplotlib.lines.Line2D at 0x185d933b4a8>],\n",
       " 'fliers': [<matplotlib.lines.Line2D at 0x185d933b7f0>],\n",
       " 'means': []}"
      ]
     },
     "execution_count": 20,
     "metadata": {},
     "output_type": "execute_result"
    },
    {
     "data": {
      "image/png": "[encoded data removed]",
      "text/plain": [
       "<Figure size 432x288 with 1 Axes>"
      ]
     },
     "metadata": {
      "needs_background": "light"
     },
     "output_type": "display_data"
    }
   ],
   "source": [
    "plt.boxplot(dfsja['date_pub'])"
   ]
  },
  {
   "cell_type": "code",
   "execution_count": 21,
   "metadata": {},
   "outputs": [
    {
     "data": {
      "image/png": "[encoded data removed]",
      "text/plain": [
       "<Figure size 432x288 with 1 Axes>"
      ]
     },
     "metadata": {
      "needs_background": "light"
     },
     "output_type": "display_data"
    }
   ],
   "source": [
    "dfsja.groupby('date_pub')['nb_pret'].sum().plot.bar()\n",
    "plt.rcParams[\"figure.figsize\"] = (24, 9)\n",
    "plt.tick_params(axis='x', labelrotation=90)\n",
    "## nb de prets selon la date de pub des docs, à rapprocher du même graphique sur les collections"
   ]
  },
  {
   "cell_type": "markdown",
   "metadata": {},
   "source": [
    "#### Années de prêt"
   ]
  },
  {
   "cell_type": "code",
   "execution_count": 88,
   "metadata": {},
   "outputs": [
    {
     "data": {
      "text/plain": [
       "array([2015, 2017, 2016, 2018, 2019], dtype=int64)"
      ]
     },
     "execution_count": 88,
     "metadata": {},
     "output_type": "execute_result"
    }
   ],
   "source": [
    "dfsja.annee_pret.unique()"
   ]
  },
  {
   "cell_type": "code",
   "execution_count": 22,
   "metadata": {},
   "outputs": [
    {
     "data": {
      "text/plain": [
       "2015    6920\n",
       "2016    5959\n",
       "2017    5821\n",
       "2018    4797\n",
       "2019    2739\n",
       "Name: annee_pret, dtype: int64"
      ]
     },
     "execution_count": 22,
     "metadata": {},
     "output_type": "execute_result"
    }
   ],
   "source": [
    "dfsja.annee_pret.value_counts()"
   ]
  },
  {
   "cell_type": "code",
   "execution_count": 91,
   "metadata": {},
   "outputs": [
    {
     "data": {
      "image/png": "[encoded data removed]",
      "text/plain": [
       "<Figure size 1728x648 with 1 Axes>"
      ]
     },
     "metadata": {
      "needs_background": "light"
     },
     "output_type": "display_data"
    }
   ],
   "source": [
    "dfsja.groupby('annee_pret')['nb_pret'].sum().plot.bar()\n",
    "plt.rcParams[\"figure.figsize\"] = (24, 9)\n",
    "plt.tick_params(axis='x', labelrotation=90)\n",
    "## nb de prêts par année"
   ]
  },
  {
   "cell_type": "markdown",
   "metadata": {},
   "source": [
    "#### Mois de prêt"
   ]
  },
  {
   "cell_type": "code",
   "execution_count": 117,
   "metadata": {},
   "outputs": [
    {
     "data": {
      "text/plain": [
       "array([ 5,  6,  3, 11,  9,  4,  2,  1, 10,  7, 12,  8], dtype=int64)"
      ]
     },
     "execution_count": 117,
     "metadata": {},
     "output_type": "execute_result"
    }
   ],
   "source": [
    "dfsja.mois_pret.unique()"
   ]
  },
  {
   "cell_type": "code",
   "execution_count": 118,
   "metadata": {},
   "outputs": [
    {
     "data": {
      "image/png": "[encoded data removed]",
      "text/plain": [
       "<Figure size 1728x648 with 1 Axes>"
      ]
     },
     "metadata": {
      "needs_background": "light"
     },
     "output_type": "display_data"
    }
   ],
   "source": [
    "dfsja.groupby('mois_pret').agg({'nb_pret':sum}).sort_values('mois_pret',ascending=False).plot.bar()\n",
    "plt.rcParams[\"figure.figsize\"] = (24, 9)\n",
    "plt.tick_params(axis='x', labelrotation=90)\n",
    "## nb de prêts par mois"
   ]
  },
  {
   "cell_type": "markdown",
   "metadata": {},
   "source": [
    "#### Jour de prêt"
   ]
  },
  {
   "cell_type": "code",
   "execution_count": 103,
   "metadata": {},
   "outputs": [
    {
     "data": {
      "text/plain": [
       "array(['Lundi', 'Vendredi', 'Mercredi', 'Samedi', 'Jeudi', 'Mardi',\n",
       "       'Dimanche'], dtype=object)"
      ]
     },
     "execution_count": 103,
     "metadata": {},
     "output_type": "execute_result"
    }
   ],
   "source": [
    "dfsja.jour_pret.unique()"
   ]
  },
  {
   "cell_type": "code",
   "execution_count": 115,
   "metadata": {},
   "outputs": [
    {
     "data": {
      "image/png": "[encoded data removed]",
      "text/plain": [
       "<Figure size 1728x648 with 1 Axes>"
      ]
     },
     "metadata": {
      "needs_background": "light"
     },
     "output_type": "display_data"
    }
   ],
   "source": [
    "dfsja.groupby('jour_pret').agg({'nb_pret':sum}).sort_values('nb_pret',ascending=False).plot.bar()\n",
    "plt.rcParams[\"figure.figsize\"] = (24, 9)\n",
    "plt.tick_params(axis='x', labelrotation=90)\n",
    "##nb de prêts par jour de la semaine"
   ]
  },
  {
   "cell_type": "code",
   "execution_count": 116,
   "metadata": {},
   "outputs": [
    {
     "data": {
      "image/png": "[encoded data removed]",
      "text/plain": [
       "<Figure size 1728x648 with 1 Axes>"
      ]
     },
     "metadata": {
      "needs_background": "light"
     },
     "output_type": "display_data"
    }
   ],
   "source": [
    "dfsja.groupby(['jour_pret','type_lecteur']).agg({'nb_pret':sum}).sort_values(['jour_pret','type_lecteur'],ascending=False).plot.bar()\n",
    "plt.rcParams[\"figure.figsize\"] = (24, 9)\n",
    "plt.tick_params(axis='x', labelrotation=90)\n",
    "## nb de prêts par jour de la semaine selon le type de lecteur"
   ]
  },
  {
   "cell_type": "code",
   "execution_count": 124,
   "metadata": {},
   "outputs": [
    {
     "data": {
      "image/png": "[encoded data removed]",
      "text/plain": [
       "<Figure size 1728x648 with 1 Axes>"
      ]
     },
     "metadata": {
      "needs_background": "light"
     },
     "output_type": "display_data"
    }
   ],
   "source": [
    "dfsja['indice'] = dfsja['indice'].astype(str).str[0]\n",
    "dfsja.groupby(['jour_pret','indice']).agg({'nb_pret':sum}).sort_values(['jour_pret','indice'],ascending=False).plot.bar()\n",
    "plt.rcParams[\"figure.figsize\"] = (24, 9)\n",
    "plt.tick_params(axis='x', labelrotation=90)\n",
    "## nb de prêts par jour selon la dscipline"
   ]
  },
  {
   "cell_type": "markdown",
   "metadata": {},
   "source": [
    "#### Types de lecteurs"
   ]
  },
  {
   "cell_type": "code",
   "execution_count": 7,
   "metadata": {},
   "outputs": [
    {
     "data": {
      "text/plain": [
       "array(['DO', 'L3', 'M2', 'LC', 'L1', 'M1', 'L2', 'M5', 'M6', 'EC', 'PU',\n",
       "       'PE', 'LE', '-', 'M4', 'LP', 'IN', 'CU', 'KI'], dtype=object)"
      ]
     },
     "execution_count": 7,
     "metadata": {},
     "output_type": "execute_result"
    }
   ],
   "source": [
    "dfsja.type_lecteur.unique()"
   ]
  },
  {
   "cell_type": "code",
   "execution_count": null,
   "metadata": {},
   "outputs": [],
   "source": [
    "dfsja.loc[dfsja.type_lecteur == '-'] ## 102 lignes"
   ]
  },
  {
   "cell_type": "code",
   "execution_count": 11,
   "metadata": {},
   "outputs": [
    {
     "data": {
      "text/plain": [
       "<matplotlib.axes._subplots.AxesSubplot at 0x264a9d21780>"
      ]
     },
     "execution_count": 11,
     "metadata": {},
     "output_type": "execute_result"
    },
    {
     "data": {
      "image/png": "[encoded data removed]",
      "text/plain": [
       "<Figure size 432x288 with 1 Axes>"
      ]
     },
     "metadata": {
      "needs_background": "light"
     },
     "output_type": "display_data"
    }
   ],
   "source": [
    "## nb de prêts par type de lecteurs\n",
    "dfsja.groupby('type_lecteur').agg({'nb_pret':sum}).sort_values('nb_pret',ascending=False).plot.bar()"
   ]
  },
  {
   "cell_type": "markdown",
   "metadata": {},
   "source": [
    "#### indices de cotes"
   ]
  },
  {
   "cell_type": "code",
   "execution_count": 12,
   "metadata": {},
   "outputs": [
    {
     "data": {
      "text/plain": [
       "array([616, 375, 658, 657, 370, 376, 910, 610, 153, 152, 420, 950,   1,\n",
       "       612, 800, 540, 500, 618, 576, 461, 371, 973, 158,  39, 374, 362,\n",
       "       421, 363, 379, 965, 512, 611, 580,  25, 930, 510, 411, 144, 378,\n",
       "       155, 450, 519, 126, 659,   4, 940,   5,  70, 509, 156, 428, 944,\n",
       "        34, 969, 550, 111, 809, 891, 460, 515, 128, 702, 572, 365, 570,\n",
       "       577, 981, 390, 490, 914, 621, 840, 398, 400, 447, 530, 366, 191,\n",
       "       121, 417, 451, 150,  27, 364, 531, 537, 980, 457, 808, 701, 796,\n",
       "       440, 909, 193, 414, 391, 780, 190, 408,  30, 706, 200, 410, 915,\n",
       "       791, 401, 972, 395, 967, 590, 449, 427, 415, 425, 970, 919, 394,\n",
       "       620, 720, 516, 372, 110, 496, 941, 959, 430, 801, 966, 506, 535,\n",
       "       956, 591, 920, 907,  28, 443, 192, 553, 536, 146, 990, 445, 960,\n",
       "       833, 961, 993, 194, 154, 916, 539, 514, 917, 599, 746, 441, 770,\n",
       "       797, 149, 839, 491, 497, 382, 630, 995, 195, 520, 115, 709, 727,\n",
       "       409, 848, 189], dtype=int64)"
      ]
     },
     "execution_count": 12,
     "metadata": {},
     "output_type": "execute_result"
    }
   ],
   "source": [
    "dfsja.indice.unique()"
   ]
  },
  {
   "cell_type": "code",
   "execution_count": 13,
   "metadata": {},
   "outputs": [
    {
     "data": {
      "text/plain": [
       "<matplotlib.axes._subplots.AxesSubplot at 0x264a9f59ef0>"
      ]
     },
     "execution_count": 13,
     "metadata": {},
     "output_type": "execute_result"
    },
    {
     "data": {
      "image/png": "[encoded data removed]",
      "text/plain": [
       "<Figure size 432x288 with 1 Axes>"
      ]
     },
     "metadata": {
      "needs_background": "light"
     },
     "output_type": "display_data"
    }
   ],
   "source": [
    "## nb de prêts par indices de cote (seulement les grandes catégories)\n",
    "dfsja['indice'] = dfsja['indice'].astype(str).str[0]\n",
    "dfsja.groupby('indice').agg({'nb_pret':sum}).sort_values('nb_pret',ascending=False).plot.bar()"
   ]
  },
  {
   "cell_type": "markdown",
   "metadata": {},
   "source": [
    "## Sauvegarde"
   ]
  },
  {
   "cell_type": "code",
   "execution_count": 10,
   "metadata": {},
   "outputs": [],
   "source": [
    "dfsja.to_csv(\"data/collaborative-filtering_complete.csv\", sep = ';', index=False, encoding='utf8')"
   ]
  },
  {
   "cell_type": "markdown",
   "metadata": {},
   "source": [
    "## Environnement Python-Neo4j"
   ]
  },
  {
   "cell_type": "code",
   "execution_count": null,
   "metadata": {},
   "outputs": [],
   "source": [
    "## plusieurs drivers python existent pour se connecter à une bdd Neo4j, on choisit py2neo\n",
    "pip install py2neo"
   ]
  },
  {
   "cell_type": "code",
   "execution_count": 1,
   "metadata": {},
   "outputs": [],
   "source": [
    "from py2neo import Graph\n",
    "graph = Graph(\"bolt://localhost:7687\", auth=(\"neo4j\", \"Superadmin\"))"
   ]
  },
  {
   "cell_type": "markdown",
   "metadata": {},
   "source": [
    "On teste la connexion avec une requête Cypher"
   ]
  },
  {
   "cell_type": "code",
   "execution_count": null,
   "metadata": {},
   "outputs": [],
   "source": [
    "graph.run(\"CALL apoc.help('apoc')\").to_table()"
   ]
  },
  {
   "cell_type": "markdown",
   "metadata": {},
   "source": [
    "La requête Cypher pour charger les données\n",
    "\n",
    "LOAD CSV WITH HEADERS FROM 'https://raw.githubusercontent.com/gegedenice/primo-recommender-system/master/SimilarityModel/data/collaborative-filtering_complete.csv?token=AFNX6GCXFWMKMG6GLC5VL625PNF5E' as row FIELDTERMINATOR ';' MERGE (g:Groupe {nom:row.type_lecteur}) MERGE (l:Lecteur {id:row.id_lecteur}) MERGE (d:Doc {num:row.num,titre:row.titre}) MERGE (disc:Disc {indice:row.indice}) WITH row,g,l,d,disc MATCH (g:Groupe),(l:Lecteur) WHERE g.nom = row.type_lecteur AND l.id = row.id_lecteur MERGE (l)-[:IN_GROUP]->(g) WITH row,l,d,disc MATCH (l:Lecteur),(d:Doc) WHERE l.id = row.id_lecteur AND d.num = row.num CREATE (l)-[:HAS_LOAN {count:row.nb_pret}]->(d) WITH row,d,disc MATCH (d:Doc),(disc:Disc) WHERE d.num = row.num AND disc.indice = row.indice MERGE (d)-[:HAS_DISC]->(disc) RETURN *"
   ]
  },
  {
   "cell_type": "markdown",
   "metadata": {},
   "source": [
    "Apercu du graphe"
   ]
  },
  {
   "cell_type": "code",
   "execution_count": 6,
   "metadata": {},
   "outputs": [],
   "source": [
    "import networkx as nx"
   ]
  },
  {
   "cell_type": "code",
   "execution_count": 39,
   "metadata": {},
   "outputs": [
    {
     "data": {
      "image/png": "[encoded data removed]",
      "text/plain": [
       "<Figure size 432x288 with 1 Axes>"
      ]
     },
     "metadata": {},
     "output_type": "display_data"
    },
    {
     "data": {
      "text/plain": [
       "<Figure size 864x864 with 0 Axes>"
      ]
     },
     "metadata": {},
     "output_type": "display_data"
    }
   ],
   "source": [
    "df = graph.run(\"MATCH (g:Groupe)<-[:IN_GROUP]-(l:Lecteur)-[:HAS_LOAN]->(d:Doc)-[:HAS_DISC]->(disc:Disc) RETURN g.nom,d.titre LIMIT 100\").to_data_frame()\n",
    "G=nx.DiGraph()   \n",
    "G.add_nodes_from(list(set(list(df.iloc[:,0]) + list(df.iloc[:,1]))))\n",
    "tuples = [tuple(x) for x in df.values] \n",
    "G.add_edges_from(tuples)\n",
    "G.number_of_edges()\n",
    "nx.draw_networkx(G,node_size=60,font_size=8)\n",
    "plt.figure(3,figsize=(12,12)) \n",
    "plt.show()"
   ]
  },
  {
   "cell_type": "markdown",
   "metadata": {},
   "source": [
    "### Requête pour la fonction de recommandations"
   ]
  },
  {
   "cell_type": "code",
   "execution_count": 22,
   "metadata": {},
   "outputs": [],
   "source": [
    "import json"
   ]
  },
  {
   "cell_type": "code",
   "execution_count": 24,
   "metadata": {},
   "outputs": [
    {
     "data": {
      "text/plain": [
       "'[{\"recommendation\": \"Professeur des \\\\u00e9coles\", \"usersWhoAlsoWatched\": 4}, {\"recommendation\": \"Refaire son m\\\\u00e9tier\", \"usersWhoAlsoWatched\": 4}, {\"recommendation\": \"L\\'analyse du travail en psychologie ergonomique\", \"usersWhoAlsoWatched\": 4}, {\"recommendation\": \"La^souffrance au travail\", \"usersWhoAlsoWatched\": 4}, {\"recommendation\": \"Motivation et efficience au travail\", \"usersWhoAlsoWatched\": 4}, {\"recommendation\": \"Comportement organisationnel\", \"usersWhoAlsoWatched\": 4}, {\"recommendation\": \"R\\\\u00e9ussir m\\\\u00e9moires et th\\\\u00e8ses\", \"usersWhoAlsoWatched\": 3}, {\"recommendation\": \"L\\'identit\\\\u00e9 \\\\u00e0 l\\'\\\\u00e9preuve de l\\'exclusion socioprofessionnelle\", \"usersWhoAlsoWatched\": 2}, {\"recommendation\": \"De l\\'ergonomie \\\\u00e0 la psychodynamique du travail\", \"usersWhoAlsoWatched\": 2}, {\"recommendation\": \"Management international\", \"usersWhoAlsoWatched\": 2}]'"
      ]
     },
     "execution_count": 24,
     "metadata": {},
     "output_type": "execute_result"
    }
   ],
   "source": [
    "num = \"306650\"\n",
    "query = \"\"\"\n",
    "MATCH (d1:Doc {num: '\"\"\"+num+\"\"\"'})<-[:HAS_LOAN]-(l:Lecteur)-[:HAS_LOAN]->(d2:Doc) \n",
    "RETURN d2.titre AS recommendation, COUNT(*) AS usersWhoAlsoWatched \n",
    "ORDER BY usersWhoAlsoWatched DESC LIMIT 10\n",
    "\"\"\"\n",
    "json.dumps(graph.run(query).data())"
   ]
  },
  {
   "cell_type": "markdown",
   "metadata": {},
   "source": [
    "### Analyse et métriques de graphe"
   ]
  },
  {
   "cell_type": "markdown",
   "metadata": {},
   "source": [
    "#### Exploration (qqs exemples)"
   ]
  },
  {
   "cell_type": "code",
   "execution_count": 34,
   "metadata": {},
   "outputs": [
    {
     "data": {
      "text/html": [
       "<table><tr><th>g.nom</th><th>d.titre</th><th>nb</th></tr><tr><td style=\"text-align:left\">L1</td><td style=\"text-align:left\">Management</td><td style=\"text-align:right\">90</td></tr><tr><td style=\"text-align:left\">M2</td><td style=\"text-align:left\">Cardiologie</td><td style=\"text-align:right\">86</td></tr><tr><td style=\"text-align:left\">M2</td><td style=\"text-align:left\">Gynécologie, obstétrique</td><td style=\"text-align:right\">72</td></tr><tr><td style=\"text-align:left\">M2</td><td style=\"text-align:left\">Hépato-gastro-entérologie, chirurgie digestive</td><td style=\"text-align:right\">69</td></tr><tr><td style=\"text-align:left\">M2</td><td style=\"text-align:left\">Hématologie</td><td style=\"text-align:right\">64</td></tr><tr><td style=\"text-align:left\">M2</td><td style=\"text-align:left\">Gériatrie</td><td style=\"text-align:right\">63</td></tr><tr><td style=\"text-align:left\">L1</td><td style=\"text-align:left\">Management</td><td style=\"text-align:right\">59</td></tr><tr><td style=\"text-align:left\">M1</td><td style=\"text-align:left\">Hépato-gastro-entérologie, chirurgie digestive</td><td style=\"text-align:right\">53</td></tr><tr><td style=\"text-align:left\">L1</td><td style=\"text-align:left\">Cardiologie</td><td style=\"text-align:right\">53</td></tr><tr><td style=\"text-align:left\">M2</td><td style=\"text-align:left\">Néphrologie</td><td style=\"text-align:right\">51</td></tr></table>"
      ],
      "text/plain": [
       " g.nom | d.titre                                        | nb \n",
       "-------|------------------------------------------------|----\n",
       " L1    | Management                                     | 90 \n",
       " M2    | Cardiologie                                    | 86 \n",
       " M2    | Gynécologie, obstétrique                       | 72 \n",
       " M2    | Hépato-gastro-entérologie, chirurgie digestive | 69 \n",
       " M2    | Hématologie                                    | 64 \n",
       " M2    | Gériatrie                                      | 63 \n",
       " L1    | Management                                     | 59 \n",
       " M1    | Hépato-gastro-entérologie, chirurgie digestive | 53 \n",
       " L1    | Cardiologie                                    | 53 \n",
       " M2    | Néphrologie                                    | 51 "
      ]
     },
     "execution_count": 34,
     "metadata": {},
     "output_type": "execute_result"
    }
   ],
   "source": [
    "## titres les plus empruntés par catégories de lecteurs\n",
    "graph.run(\"MATCH (g:Groupe)<-[:IN_GROUP]-(l:Lecteur)-[h:HAS_LOAN]->(d:Doc) WITH g,d,count(h) as nb RETURN g.nom,d.titre,nb ORDER BY nb DESC LIMIT 10\").to_table()"
   ]
  },
  {
   "cell_type": "code",
   "execution_count": 35,
   "metadata": {},
   "outputs": [
    {
     "data": {
      "text/html": [
       "<table><tr><th>g.nom</th><th>disc.indice</th><th>nb</th></tr><tr><td style=\"text-align:left\">M2</td><td style=\"text-align:left\">658</td><td style=\"text-align:right\">5750</td></tr><tr><td style=\"text-align:left\">M1</td><td style=\"text-align:left\">658</td><td style=\"text-align:right\">4484</td></tr><tr><td style=\"text-align:left\">M2</td><td style=\"text-align:left\">616</td><td style=\"text-align:right\">4407</td></tr><tr><td style=\"text-align:left\">M1</td><td style=\"text-align:left\">616</td><td style=\"text-align:right\">2498</td></tr><tr><td style=\"text-align:left\">L1</td><td style=\"text-align:left\">616</td><td style=\"text-align:right\">2269</td></tr><tr><td style=\"text-align:left\">L3</td><td style=\"text-align:left\">658</td><td style=\"text-align:right\">2166</td></tr><tr><td style=\"text-align:left\">L1</td><td style=\"text-align:left\">658</td><td style=\"text-align:right\">1482</td></tr><tr><td style=\"text-align:left\">L2</td><td style=\"text-align:left\">658</td><td style=\"text-align:right\">966</td></tr><tr><td style=\"text-align:left\">LE</td><td style=\"text-align:left\">658</td><td style=\"text-align:right\">921</td></tr><tr><td style=\"text-align:left\">DO</td><td style=\"text-align:left\">658</td><td style=\"text-align:right\">918</td></tr></table>"
      ],
      "text/plain": [
       " g.nom | disc.indice |   nb \n",
       "-------|-------------|------\n",
       " M2    | 658         | 5750 \n",
       " M1    | 658         | 4484 \n",
       " M2    | 616         | 4407 \n",
       " M1    | 616         | 2498 \n",
       " L1    | 616         | 2269 \n",
       " L3    | 658         | 2166 \n",
       " L1    | 658         | 1482 \n",
       " L2    | 658         |  966 \n",
       " LE    | 658         |  921 \n",
       " DO    | 658         |  918 "
      ]
     },
     "execution_count": 35,
     "metadata": {},
     "output_type": "execute_result"
    }
   ],
   "source": [
    "## indices de cote les plus empruntés par catégories de lecteurs\n",
    "graph.run(\"MATCH (g:Groupe)<--(l:Lecteur)-[h:HAS_LOAN]->(d:Doc)--(disc:Disc) WITH g,disc,count(h) as nb RETURN g.nom,disc.indice,nb ORDER BY nb DESC LIMIT 10\").to_table()"
   ]
  },
  {
   "cell_type": "markdown",
   "metadata": {},
   "source": [
    "Subgraph par niveau (groupe de lecteurs L1, L2, ...) \n",
    "\n",
    "MATCH (g:Groupe)<-[:IN_GROUP]-(l:Lecteur)-[:HAS_LOAN]->(d:Doc)-[:HAS_DISC]->(disc:Disc) WHERE g.nom=\"L1\" RETURN *"
   ]
  },
  {
   "cell_type": "code",
   "execution_count": 40,
   "metadata": {},
   "outputs": [
    {
     "data": {
      "text/html": [
       "<table><tr><th>d.num</th><th>d.titre</th><th>indices</th><th>rels</th></tr><tr><td style=\"text-align:left\">268514</td><td style=\"text-align:left\">La^pratique de l&#039;ECG</td><td style=\"text-align:left\">[(_3:Disc {indice: &#039;616&#039;}), (_88:Disc {indice: &#039;610&#039;})]</td><td style=\"text-align:right\">2</td></tr><tr><td style=\"text-align:left\">83773</td><td style=\"text-align:left\">Communication des entreprises</td><td style=\"text-align:left\">[(_13:Disc {indice: &#039;658&#039;}), (_834:Disc {indice: &#039;659&#039;})]</td><td style=\"text-align:right\">2</td></tr><tr><td style=\"text-align:left\">90297</td><td style=\"text-align:left\">Comportement organisationnel</td><td style=\"text-align:left\">[(_13:Disc {indice: &#039;658&#039;}), (_316:Disc {indice: &#039;158&#039;})]</td><td style=\"text-align:right\">2</td></tr><tr><td style=\"text-align:left\">75135</td><td style=\"text-align:left\">Comportement organisationnel</td><td style=\"text-align:left\">[(_13:Disc {indice: &#039;658&#039;}), (_316:Disc {indice: &#039;158&#039;})]</td><td style=\"text-align:right\">2</td></tr><tr><td style=\"text-align:left\">265948</td><td style=\"text-align:left\">Biostatistique</td><td style=\"text-align:left\">[(_88:Disc {indice: &#039;610&#039;}), (_1833:Disc {indice: &#039;570&#039;})]</td><td style=\"text-align:right\">2</td></tr><tr><td style=\"text-align:left\">122741</td><td style=\"text-align:left\">Comment réussir un mémoire</td><td style=\"text-align:left\">[(_222:Disc {indice: &#039;618&#039;}), (_349:Disc {indice: &#039;374&#039;})]</td><td style=\"text-align:right\">2</td></tr></table>"
      ],
      "text/plain": [
       " d.num  | d.titre                       | indices                                                    | rels \n",
       "--------|-------------------------------|------------------------------------------------------------|------\n",
       " 268514 | La^pratique de l'ECG          | [(_3:Disc {indice: '616'}), (_88:Disc {indice: '610'})]    |    2 \n",
       " 83773  | Communication des entreprises | [(_13:Disc {indice: '658'}), (_834:Disc {indice: '659'})]  |    2 \n",
       " 90297  | Comportement organisationnel  | [(_13:Disc {indice: '658'}), (_316:Disc {indice: '158'})]  |    2 \n",
       " 75135  | Comportement organisationnel  | [(_13:Disc {indice: '658'}), (_316:Disc {indice: '158'})]  |    2 \n",
       " 265948 | Biostatistique                | [(_88:Disc {indice: '610'}), (_1833:Disc {indice: '570'})] |    2 \n",
       " 122741 | Comment réussir un mémoire    | [(_222:Disc {indice: '618'}), (_349:Disc {indice: '374'})] |    2 "
      ]
     },
     "execution_count": 40,
     "metadata": {},
     "output_type": "execute_result"
    }
   ],
   "source": [
    "##repérage des notices avec des exemplaires ayant des cotes différentes\n",
    "graph.run(\"MATCH (d:Doc)-[:HAS_DISC]->(disc:Disc) WITH d,count(disc) as rels, collect(disc) as indices WHERE rels > 1 RETURN d.num,d.titre,indices, rels\").to_table()"
   ]
  },
  {
   "cell_type": "markdown",
   "metadata": {},
   "source": [
    "#### Algorithme de centralité : degré"
   ]
  },
  {
   "cell_type": "markdown",
   "metadata": {},
   "source": [
    "Calcul sur le graphe"
   ]
  },
  {
   "cell_type": "code",
   "execution_count": 25,
   "metadata": {},
   "outputs": [
    {
     "data": {
      "text/html": [
       "<table><tr><th>labels(n)</th><th>Count_Nodes</th><th>Avg_Degree</th><th>Min_Degree</th><th>Max_Degree</th><th>stdev</th></tr><tr><td style=\"text-align:left\">[&#039;Groupe&#039;]</td><td style=\"text-align:right\">19</td><td style=\"text-align:right\">301.5263157894736</td><td style=\"text-align:right\">1</td><td style=\"text-align:right\">1484</td><td style=\"text-align:right\">470.71545644441346</td></tr><tr><td style=\"text-align:left\">[&#039;Lecteur&#039;]</td><td style=\"text-align:right\">4712</td><td style=\"text-align:right\">6.783743633276748</td><td style=\"text-align:right\">2</td><td style=\"text-align:right\">377</td><td style=\"text-align:right\">11.032156494463754</td></tr><tr><td style=\"text-align:left\">[&#039;Doc&#039;]</td><td style=\"text-align:right\">5760</td><td style=\"text-align:right\">5.555902777777767</td><td style=\"text-align:right\">2</td><td style=\"text-align:right\">113</td><td style=\"text-align:right\">6.776464578497246</td></tr><tr><td style=\"text-align:left\">[&#039;Disc&#039;]</td><td style=\"text-align:right\">172</td><td style=\"text-align:right\">33.5232558139535</td><td style=\"text-align:right\">1</td><td style=\"text-align:right\">2881</td><td style=\"text-align:right\">228.4350382657309</td></tr></table>"
      ],
      "text/plain": [
       " labels(n)   | Count_Nodes |        Avg_Degree | Min_Degree | Max_Degree |              stdev \n",
       "-------------|-------------|-------------------|------------|------------|--------------------\n",
       " ['Groupe']  |          19 | 301.5263157894736 |          1 |       1484 | 470.71545644441346 \n",
       " ['Lecteur'] |        4712 | 6.783743633276748 |          2 |        377 | 11.032156494463754 \n",
       " ['Doc']     |        5760 | 5.555902777777767 |          2 |        113 |  6.776464578497246 \n",
       " ['Disc']    |         172 |  33.5232558139535 |          1 |       2881 |  228.4350382657309 "
      ]
     },
     "execution_count": 25,
     "metadata": {},
     "output_type": "execute_result"
    }
   ],
   "source": [
    "graph.run(\"MATCH (n) RETURN DISTINCT labels(n), count(*) AS Count_Nodes, avg(size( (n)-[]-() ) ) as Avg_Degree, min(size( (n)-[]-() ) ) as Min_Degree, max(size( (n)-[]-() ) ) as Max_Degree, stdev(size( (n)-[]-() )) as stdev\").to_table()"
   ]
  },
  {
   "cell_type": "markdown",
   "metadata": {},
   "source": [
    "Création d'une projection de graphe (d:doc)-->(d:Doc) : autre représentation de la matrice décomposée item/item + attribution pour chaque noeud de type Doc d'une nouvelle propriété stockant son degré (nombre de relations)"
   ]
  },
  {
   "cell_type": "code",
   "execution_count": 42,
   "metadata": {},
   "outputs": [
    {
     "data": {
      "text/html": [
       "<table><tr><th>nodes</th><th>loadMillis</th><th>computeMillis</th><th>writeMillis</th><th>write</th><th>writeProperty</th></tr><tr><td style=\"text-align:right\">5760</td><td style=\"text-align:right\">670</td><td style=\"text-align:right\">1</td><td style=\"text-align:right\">67</td><td style=\"text-align:left\">true</td><td style=\"text-align:left\">degree</td></tr></table>"
      ],
      "text/plain": [
       " nodes | loadMillis | computeMillis | writeMillis | write | writeProperty \n",
       "-------|------------|---------------|-------------|-------|---------------\n",
       "  5760 |        670 |             1 |          67 | true  | degree        "
      ]
     },
     "execution_count": 42,
     "metadata": {},
     "output_type": "execute_result"
    }
   ],
   "source": [
    "query = \"\"\"\n",
    "CALL algo.degree(\n",
    "  'MATCH (d:Doc) RETURN id(d) as id',\n",
    "  'MATCH (d1:Doc)<-[:HAS_LOAN]-(l:Lecteur)-[:HAS_LOAN]->(d2:Doc) WHERE id(d1) > id(d2) RETURN id(d1) as source, id(d2) as target',\n",
    "  {graph:'cypher',writeProperty: 'degree'})\n",
    "\"\"\"\n",
    "graph.run(query).to_table()"
   ]
  },
  {
   "cell_type": "markdown",
   "metadata": {},
   "source": [
    "#### Algorithmes de centralité : betweeness"
   ]
  },
  {
   "cell_type": "code",
   "execution_count": 43,
   "metadata": {},
   "outputs": [
    {
     "data": {
      "text/html": [
       "<table><tr><th>loadMillis</th><th>computeMillis</th><th>writeMillis</th><th>nodes</th><th>minCentrality</th><th>maxCentrality</th><th>sumCentrality</th></tr><tr><td style=\"text-align:right\">421</td><td style=\"text-align:right\">1384</td><td style=\"text-align:right\">22</td><td style=\"text-align:right\">5760</td><td style=\"text-align:right\">-1.0</td><td style=\"text-align:right\">-1.0</td><td style=\"text-align:right\">-1.0</td></tr></table>"
      ],
      "text/plain": [
       " loadMillis | computeMillis | writeMillis | nodes | minCentrality | maxCentrality | sumCentrality \n",
       "------------|---------------|-------------|-------|---------------|---------------|---------------\n",
       "        421 |          1384 |          22 |  5760 |          -1.0 |          -1.0 |          -1.0 "
      ]
     },
     "execution_count": 43,
     "metadata": {},
     "output_type": "execute_result"
    }
   ],
   "source": [
    "query = \"\"\"\n",
    "CALL algo.betweenness(\n",
    "  'MATCH (d:Doc) RETURN id(d) as id',\n",
    "  'MATCH (d1:Doc)<-[:HAS_LOAN]-(l:Lecteur)-[:HAS_LOAN]->(d2:Doc) WHERE id(d1) > id(d2) RETURN id(d1) as source, id(d2) as target',\n",
    "  {graph:'cypher',direction: 'out',writeProperty: 'betweeness'})\n",
    "\"\"\"\n",
    "graph.run(query).to_table()\n",
    "## crée une propriété de noeud betweeness"
   ]
  },
  {
   "cell_type": "markdown",
   "metadata": {},
   "source": [
    "#### Algorithmes de graphe : détection de communauté"
   ]
  }
 ],
 "metadata": {
  "kernelspec": {
   "display_name": "Python 3",
   "language": "python",
   "name": "python3"
  },
  "language_info": {
   "codemirror_mode": {
    "name": "ipython",
    "version": 3
   },
   "file_extension": ".py",
   "mimetype": "text/x-python",
   "name": "python",
   "nbconvert_exporter": "python",
   "pygments_lexer": "ipython3",
   "version": "3.7.3"
  }
 },
 "nbformat": 4,
 "nbformat_minor": 4
}
