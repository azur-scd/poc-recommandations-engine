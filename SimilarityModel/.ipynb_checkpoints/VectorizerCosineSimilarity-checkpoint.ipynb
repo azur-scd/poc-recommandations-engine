{
 "cells": [
  {
   "cell_type": "code",
   "execution_count": 1,
   "metadata": {},
   "outputs": [],
   "source": [
    "import pandas as pd\n",
    "import pickle\n",
    "import joblib\n",
    "from sklearn.feature_extraction.text import CountVectorizer\n",
    "from sklearn.metrics.pairwise import cosine_similarity"
   ]
  },
  {
   "cell_type": "code",
   "execution_count": 4,
   "metadata": {},
   "outputs": [
    {
     "data": {
      "text/plain": [
       "['../model2.pkl']"
      ]
     },
     "execution_count": 4,
     "metadata": {},
     "output_type": "execute_result"
    }
   ],
   "source": [
    "##load data\n",
    "df = pd.read_csv('data/export_SJA_nltk_complete.csv', sep = ';')\n",
    "##process\n",
    "count = CountVectorizer()\n",
    "count_matrix = count.fit_transform(df['metadata_stop_fr_en'])\n",
    "cosine_sim = cosine_similarity(count_matrix, count_matrix)\n",
    "##save model\n",
    "##joblib.dump(cosine_sim, '../model.pkl')\n",
    "joblib.dump(cosine_sim, '../model2.pkl', compress=True)"
   ]
  },
  {
   "cell_type": "code",
   "execution_count": null,
   "metadata": {},
   "outputs": [],
   "source": []
  }
 ],
 "metadata": {
  "kernelspec": {
   "display_name": "Python 3",
   "language": "python",
   "name": "python3"
  },
  "language_info": {
   "codemirror_mode": {
    "name": "ipython",
    "version": 3
   },
   "file_extension": ".py",
   "mimetype": "text/x-python",
   "name": "python",
   "nbconvert_exporter": "python",
   "pygments_lexer": "ipython3",
   "version": "3.7.3"
  }
 },
 "nbformat": 4,
 "nbformat_minor": 4
}
